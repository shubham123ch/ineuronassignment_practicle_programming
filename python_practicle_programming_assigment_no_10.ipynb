{
  "nbformat": 4,
  "nbformat_minor": 0,
  "metadata": {
    "colab": {
      "provenance": []
    },
    "kernelspec": {
      "name": "python3",
      "display_name": "Python 3"
    },
    "language_info": {
      "name": "python"
    }
  },
  "cells": [
    {
      "cell_type": "markdown",
      "source": [
        "# Shubham Kumar Chaturvedi(python practicle programming assigment no: 10)"
      ],
      "metadata": {
        "id": "9QA6pMH9cm1E"
      }
    },
    {
      "cell_type": "code",
      "execution_count": 4,
      "metadata": {
        "colab": {
          "base_uri": "https://localhost:8080/"
        },
        "id": "fgAY5EwMbU68",
        "outputId": "8c17364f-fab6-421a-ad8a-a9e460c614df"
      },
      "outputs": [
        {
          "output_type": "stream",
          "name": "stdout",
          "text": [
            "Enter number of elements : 1\n",
            "2\n",
            "[2]\n",
            "Sum of all the elements of an array: 2\n"
          ]
        }
      ],
      "source": [
        "#Initialize array     \n",
        "# arr = [1, 2, 3, 4, 5];     \n",
        "# creating an empty list\n",
        "arr = []\n",
        "  \n",
        "# number of elements as input\n",
        "n = int(input(\"Enter number of elements : \"))\n",
        "  \n",
        "# iterating till the range\n",
        "for i in range(0, n):\n",
        "    ele = int(input())\n",
        "  \n",
        "    arr.append(ele) # adding the element\n",
        "      \n",
        "print(arr)\n",
        "\n",
        "sum = 0;    \n",
        "     \n",
        "#Loop through the array to calculate sum of elements    \n",
        "for i in range(0, len(arr)):    \n",
        "   sum = sum + arr[i];    \n",
        "     \n",
        "print(\"Sum of all the elements of an array: \" + str(sum));"
      ]
    },
    {
      "cell_type": "code",
      "source": [
        "# Q2. Write a Python program to Multiply all numbers in the list?\n",
        "# Python program to multiply all values in the\n",
        "# list using traversal\n",
        " \n",
        " \n",
        "def multiplyList(myList):\n",
        " \n",
        "    # Multiply elements one by one\n",
        "    result = 1\n",
        "    for x in myList:\n",
        "        result = result * x\n",
        "    return result\n",
        " \n",
        " \n",
        "# Driver code\n",
        "list1 = [1, 2, 3]\n",
        "list2 = [3, 2, 4]\n",
        "print(multiplyList(list1))\n",
        "print(multiplyList(list2))"
      ],
      "metadata": {
        "colab": {
          "base_uri": "https://localhost:8080/"
        },
        "id": "cPldG6Eqe598",
        "outputId": "328b0186-44fe-4715-81d4-c3ca570c075a"
      },
      "execution_count": 5,
      "outputs": [
        {
          "output_type": "stream",
          "name": "stdout",
          "text": [
            "6\n",
            "24\n"
          ]
        }
      ]
    },
    {
      "cell_type": "code",
      "source": [
        "# Q3.Write a Python program to find smallest number in a list?\n",
        "# Python program to find smallest\n",
        "# number in a list\n",
        " \n",
        "# creating empty list\n",
        "list1 = []\n",
        " \n",
        "# asking number of elements to put in list\n",
        "num = int(input(\"Enter number of elements in list: \"))\n",
        " \n",
        "# iterating till num to append elements in list\n",
        "for i in range(1, num + 1):\n",
        "    ele= int(input(\"Enter elements: \"))\n",
        "    list1.append(ele)\n",
        "     \n",
        "# print maximum element\n",
        "print(\"Smallest element is:\", min(list1))"
      ],
      "metadata": {
        "colab": {
          "base_uri": "https://localhost:8080/"
        },
        "id": "xzx3PnqDfYwK",
        "outputId": "23c203c8-a6f7-41a4-d4df-71b1383aa852"
      },
      "execution_count": 6,
      "outputs": [
        {
          "output_type": "stream",
          "name": "stdout",
          "text": [
            "Enter number of elements in list: 2\n",
            "Enter elements: 3\n",
            "Enter elements: 4\n",
            "Smallest element is: 3\n"
          ]
        }
      ]
    },
    {
      "cell_type": "code",
      "source": [
        "# Q4. Write a Python program to find largest number in a list?\n",
        "# Python program to find largest\n",
        "# number in a list\n",
        " \n",
        "# creating empty list\n",
        "list1 = []\n",
        " \n",
        "# asking number of elements to put in list\n",
        "num = int(input(\"Enter number of elements in list: \"))\n",
        " \n",
        "# iterating till num to append elements in list\n",
        "for i in range(1, num + 1):\n",
        "    ele = int(input(\"Enter elements: \"))\n",
        "    list1.append(ele)\n",
        "     \n",
        "# print maximum element\n",
        "print(\"Largest element is:\", max(list1))\n"
      ],
      "metadata": {
        "colab": {
          "base_uri": "https://localhost:8080/"
        },
        "id": "-_N-VqHChdSo",
        "outputId": "f3de9c3f-e4d6-4699-983c-ca0405546d89"
      },
      "execution_count": 8,
      "outputs": [
        {
          "output_type": "stream",
          "name": "stdout",
          "text": [
            "Enter number of elements in list: 3\n",
            "Enter elements: 2\n",
            "Enter elements: 6\n",
            "Enter elements: 7\n",
            "Largest element is: 7\n"
          ]
        }
      ]
    },
    {
      "cell_type": "code",
      "source": [
        "# Q5.Write a Python program to find second largest number in a list?\n",
        "# lst = [10, 20, 4, 45, 99]\n",
        "# creating empty list\n",
        "list1 = []\n",
        " \n",
        "# asking number of elements to put in list\n",
        "num = int(input(\"Enter number of elements in list: \"))\n",
        " \n",
        "# iterating till num to append elements in list\n",
        "for i in range(1, num + 1):\n",
        "    ele = int(input(\"Enter elements: \"))\n",
        "    list1.append(ele)\n",
        "\n",
        "maximum1 = max(list1)\n",
        "maximum2 = max(list1, key=lambda x: min(list1)-1 if (x == maximum1) else x)\n",
        "print(maximum2)"
      ],
      "metadata": {
        "colab": {
          "base_uri": "https://localhost:8080/"
        },
        "id": "N64ly_uphdUX",
        "outputId": "3319ab2f-6835-4494-a9a4-1adb6b3f6535"
      },
      "execution_count": 13,
      "outputs": [
        {
          "output_type": "stream",
          "name": "stdout",
          "text": [
            "Enter number of elements in list: 3\n",
            "Enter elements: 5\n",
            "Enter elements: 6\n",
            "Enter elements: 9\n",
            "6\n"
          ]
        }
      ]
    },
    {
      "cell_type": "code",
      "source": [
        "#Q6. Write a Python program to find N largest elements from a list?\n",
        "# Python program to find N largest\n",
        "# element from given list of integers\n",
        "\n",
        "# Function returns N largest elements\n",
        "def Nmaxelements(list1, N):\n",
        "\tfinal_list = []\n",
        "\n",
        "\tfor i in range(0, N):\n",
        "\t\tmax1 = 0\n",
        "\t\t\n",
        "\t\tfor j in range(len(list1)):\t\n",
        "\t\t\tif list1[j] > max1:\n",
        "\t\t\t\tmax1 = list1[j];\n",
        "\t\t\t\t\n",
        "\t\tlist1.remove(max1);\n",
        "\t\tfinal_list.append(max1)\n",
        "\t\t\n",
        "\tprint(final_list)\n",
        "\n",
        "# Driver code\n",
        "# list1 = [2, 6, 41, 85, 0, 3, 7, 6, 10]\n",
        "# N = 2\n",
        "list1 = []\n",
        " \n",
        "# asking number of elements to put in list\n",
        "num = int(input(\"Enter number of elements in list: \"))\n",
        " \n",
        "# iterating till num to append elements in list\n",
        "for i in range(1, num + 1):\n",
        "    ele = int(input(\"Enter elements: \"))\n",
        "    list1.append(ele)\n",
        "\n",
        "N = int(input(\"enter total no to show\"))\n",
        "\n",
        "# Calling the function\n",
        "Nmaxelements(list1, N)\n"
      ],
      "metadata": {
        "colab": {
          "base_uri": "https://localhost:8080/"
        },
        "id": "Jov7NSKakXI9",
        "outputId": "191bd760-88e4-429c-ceca-9ae42399e8d4"
      },
      "execution_count": 15,
      "outputs": [
        {
          "output_type": "stream",
          "name": "stdout",
          "text": [
            "Enter number of elements in list: 4\n",
            "Enter elements: 3\n",
            "Enter elements: 6\n",
            "Enter elements: 7\n",
            "Enter elements: 8\n",
            "enter total no to show2\n",
            "[8, 7]\n"
          ]
        }
      ]
    },
    {
      "cell_type": "code",
      "source": [
        "# Q7. Write a Python program to print even numbers in a list?\n",
        " \n",
        "# list of numbers\n",
        "#list1 = [10, 21, 4, 45, 66, 93]\n",
        "list1 = []\n",
        " \n",
        "# asking number of elements to put in list\n",
        "num = int(input(\"Enter number of elements in list: \"))\n",
        " \n",
        "# iterating till num to append elements in list\n",
        "for i in range(1, num + 1):\n",
        "    ele = int(input(\"Enter elements: \"))\n",
        "    list1.append(ele)\n",
        "# iterating each number in list\n",
        "for num in list1:\n",
        " \n",
        "    # checking condition\n",
        "    if num % 2 == 0:\n",
        "        print(num, end=\" \")"
      ],
      "metadata": {
        "colab": {
          "base_uri": "https://localhost:8080/"
        },
        "id": "xwJgPTXEnzkI",
        "outputId": "4d7af6ec-9f49-4f86-b4ad-d3ec266faaaf"
      },
      "execution_count": 16,
      "outputs": [
        {
          "output_type": "stream",
          "name": "stdout",
          "text": [
            "Enter number of elements in list: 4\n",
            "Enter elements: 2\n",
            "Enter elements: 3\n",
            "Enter elements: 6\n",
            "Enter elements: 8\n",
            "2 6 8 "
          ]
        }
      ]
    },
    {
      "cell_type": "code",
      "source": [
        "# Q8.Write a Python program to print odd numbers in a List?\n",
        "\n",
        "list1 = []\n",
        " \n",
        "# asking number of elements to put in list\n",
        "num = int(input(\"Enter number of elements in list: \"))\n",
        " \n",
        "# iterating till num to append elements in list\n",
        "for i in range(1, num + 1):\n",
        "    ele = int(input(\"Enter elements: \"))\n",
        "    list1.append(ele)\n",
        "\n",
        "# list of numbers\n",
        "# list1 = [10, 21, 4, 45, 66, 93, 11]\n",
        "# we can also print odd no's using lambda exp.\n",
        "odd_nos = list(filter(lambda x: (x % 2 != 0), list1))\n",
        " \n",
        "print(\"Odd numbers in the list: \", odd_nos)"
      ],
      "metadata": {
        "colab": {
          "base_uri": "https://localhost:8080/"
        },
        "id": "Sd0kURRFspXw",
        "outputId": "5ef41593-7b07-44da-85e1-205b2a512a28"
      },
      "execution_count": 18,
      "outputs": [
        {
          "output_type": "stream",
          "name": "stdout",
          "text": [
            "Enter number of elements in list: 3\n",
            "Enter elements: 2\n",
            "Enter elements: 5\n",
            "Enter elements: 7\n",
            "Odd numbers in the list:  [5, 7]\n"
          ]
        }
      ]
    },
    {
      "cell_type": "code",
      "source": [
        "#Q9.Write a Python program to Remove empty List from List?\n",
        "# Python Code to Remove empty List from List\n",
        "\n",
        "def empty_list_remove(input_list):\n",
        "\tnew_list = []\n",
        "\tfor ele in input_list:\n",
        "\t\tif ele:\n",
        "\t\t\tnew_list.append(ele)\n",
        "\treturn new_list\n",
        "\n",
        "\n",
        "# input list values\n",
        "input_list = [5, 6, [], 3, [], [], 9]\n",
        "\n",
        "# print initial list values\n",
        "print(f\"The original list is : {input_list}\")\n",
        "# function-call & print values\n",
        "print(f\"List after empty list removal : {empty_list_remove(input_list)}\")\n"
      ],
      "metadata": {
        "colab": {
          "base_uri": "https://localhost:8080/"
        },
        "id": "AweEeT8vt0mL",
        "outputId": "dc1d3883-b39c-4fe8-971c-09f23df1af42"
      },
      "execution_count": 19,
      "outputs": [
        {
          "output_type": "stream",
          "name": "stdout",
          "text": [
            "The original list is : [5, 6, [], 3, [], [], 9]\n",
            "List after empty list removal : [5, 6, 3, 9]\n"
          ]
        }
      ]
    },
    {
      "cell_type": "code",
      "source": [
        "#Q10. Write a Python program to Cloning or Copying a list?\n",
        "# Python code to clone or copy a list\n",
        "# Using the List copy using =\n",
        "def Cloning(li1):\n",
        "    li_copy = li1\n",
        "    return li_copy\n",
        "   \n",
        "# Driver Code\n",
        "li1 = [4, 8, 2, 10, 15, 18]\n",
        "li2 = Cloning(li1)\n",
        "print(\"Original List:\", li1)\n",
        "print(\"After Cloning:\", li2)\n"
      ],
      "metadata": {
        "colab": {
          "base_uri": "https://localhost:8080/"
        },
        "id": "x0tjXeOpugJN",
        "outputId": "3478b932-492c-44a1-8a52-52782bed8e8b"
      },
      "execution_count": 20,
      "outputs": [
        {
          "output_type": "stream",
          "name": "stdout",
          "text": [
            "Original List: [4, 8, 2, 10, 15, 18]\n",
            "After Cloning: [4, 8, 2, 10, 15, 18]\n"
          ]
        }
      ]
    },
    {
      "cell_type": "code",
      "source": [
        "# Q11. Write a Python program to Count occurrences of an element in a list?\n",
        "def countX(lst, x):\n",
        "    return lst.count(x)\n",
        " \n",
        " \n",
        "# Driver Code\n",
        "lst = [8, 6, 8, 10, 8, 20, 10, 8, 8]\n",
        "x = 8\n",
        "print('{} has occurred {} times'.format(x,\n",
        "                                        countX(lst, x)))"
      ],
      "metadata": {
        "colab": {
          "base_uri": "https://localhost:8080/"
        },
        "id": "xi5VZpUnvfKs",
        "outputId": "a86d2555-d79c-4a1f-b561-8a063fe790d0"
      },
      "execution_count": 21,
      "outputs": [
        {
          "output_type": "stream",
          "name": "stdout",
          "text": [
            "8 has occurred 5 times\n"
          ]
        }
      ]
    }
  ]
}