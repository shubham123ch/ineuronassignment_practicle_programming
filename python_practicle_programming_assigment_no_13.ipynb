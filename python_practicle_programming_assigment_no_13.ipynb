{
  "nbformat": 4,
  "nbformat_minor": 0,
  "metadata": {
    "colab": {
      "provenance": []
    },
    "kernelspec": {
      "name": "python3",
      "display_name": "Python 3"
    },
    "language_info": {
      "name": "python"
    }
  },
  "cells": [
    {
      "cell_type": "markdown",
      "source": [
        "# Shubham Kumar Chaturvedi(python practicle programming assigment no: 13)"
      ],
      "metadata": {
        "id": "nvP0-L__XGvr"
      }
    },
    {
      "cell_type": "code",
      "execution_count": null,
      "metadata": {
        "id": "3M7hBxOAXF5W",
        "colab": {
          "base_uri": "https://localhost:8080/"
        },
        "outputId": "1f5dde78-af13-4847-9844-4d70b27cd7c4"
      },
      "outputs": [
        {
          "output_type": "stream",
          "name": "stdout",
          "text": [
            "enter the value of D\n",
            "100,150,200\n",
            "output= [18, 22, 26]\n"
          ]
        }
      ],
      "source": [
        "# Question 1:\n",
        "# Write a program that calculates and prints the value according to the given formula:\n",
        "# Q = Square root of [(2 * C * D)/H]\n",
        "# Following are the fixed values of C and H:\n",
        "# C is 50. H is 30.\n",
        "# D is the variable whose values should be input to your program in a comma-separated\n",
        "# sequence.\n",
        "# Example\n",
        "# Let us assume the following comma separated input sequence is given to the program:\n",
        "# 100,150,180\n",
        "# The output of the program should be:\n",
        "# 18,22,24\n",
        "\n",
        "import math\n",
        "\n",
        "C= 50\n",
        "H = 30\n",
        "Ds = []\n",
        "result =[]\n",
        "Dv=input(\"enter the value of D\\n\")\n",
        "Ds=Dv.split(\",\")\n",
        "Ds = [int(i) for i in Ds]\n",
        "i=0\n",
        "l = len(Ds)\n",
        "while(i<l):\n",
        "    Q = round(math.sqrt((2*C*Ds[i])/H))\n",
        "    result. append(Q)\n",
        "    i+=1\n",
        "print(\"output=\",result)\n",
        "\n",
        "\n"
      ]
    },
    {
      "cell_type": "code",
      "source": [
        "# Q2. Write a program which takes 2 digits, X,Y as input and generates a 2-dimensional array. The\n",
        "# element value in the i-th row and j-th column of the array should be i*j.\n",
        "# Note: i=0,1.., X-1; j=0,1,¡Y-1.\n",
        "# Example\n",
        "# Suppose the following inputs are given to the program:\n",
        "# 3,5\n",
        "# Then, the output of the program should be:\n",
        "# [[0, 0, 0, 0, 0], [0, 1, 2, 3, 4], [0, 2, 4, 6, 8]]\n",
        "\n",
        "m=int(input(\"Row:\"))\n",
        "n=int(input(\"Column:\"))\n",
        "matrix=[[0 for col in range(n)] for row in range(m)]\n",
        "for row in range(m):\n",
        "    for col in range(n):\n",
        "        matrix[row][col]=row*col\n",
        "print(matrix)"
      ],
      "metadata": {
        "id": "MIMcSCJuDg5M",
        "colab": {
          "base_uri": "https://localhost:8080/"
        },
        "outputId": "9212e7c4-ac89-45c0-809b-247b96c9cfe5"
      },
      "execution_count": 2,
      "outputs": [
        {
          "output_type": "stream",
          "name": "stdout",
          "text": [
            "Row:3\n",
            "Column:4\n",
            "[[0, 0, 0, 0], [0, 1, 2, 3], [0, 2, 4, 6]]\n"
          ]
        }
      ]
    },
    {
      "cell_type": "code",
      "source": [
        "# Q3. Write a program that accepts a comma separated sequence of words as input and prints the\n",
        "# words in a comma-separated sequence after sorting them alphabetically.\n",
        "# Suppose the following input is supplied to the program:\n",
        "# without,hello,bag,world\n",
        "# Then, the output should be:\n",
        "# bag,hello,without,world\n",
        "\n",
        "phrase = input(\"Input words: \")\n",
        "\n",
        "phrase_list = phrase.split(\",\")\n",
        "phrase_list.sort()\n",
        "print((', ').join(phrase_list))"
      ],
      "metadata": {
        "colab": {
          "base_uri": "https://localhost:8080/"
        },
        "id": "7n-sLwH_Ixtw",
        "outputId": "fddf0b1b-0378-4e91-c377-c1eaba465eda"
      },
      "execution_count": 4,
      "outputs": [
        {
          "output_type": "stream",
          "name": "stdout",
          "text": [
            "Input words: singal, one ,peace\n",
            " one , peace, singal\n"
          ]
        }
      ]
    },
    {
      "cell_type": "code",
      "source": [
        "# Q4. Write a program that accepts a sequence of whitespace separated words as input and prints\n",
        "# the words after removing all duplicate words and sorting them alphanumerically.\n",
        "# Suppose the following input is supplied to the program:\n",
        "# hello world and practice makes perfect and hello world again\n",
        "# Then, the output should be:\n",
        "# again and hello makes perfect practice world\n",
        "\n",
        "phrase = input(\"Type in: \")\n",
        "phrase_splited = phrase.split(' ')\n",
        "\n",
        "word_list = []\n",
        "for i in phrase_splited:\n",
        "    if i not in word_list:\n",
        "        word_list.append(i)\n",
        "    else:\n",
        "        continue\n",
        "word_list.sort()\n",
        "print((' ').join(word_list))"
      ],
      "metadata": {
        "colab": {
          "base_uri": "https://localhost:8080/"
        },
        "id": "5LWhNkoVKDwV",
        "outputId": "a6fae1ba-d039-4234-969b-e47bef70fe93"
      },
      "execution_count": 5,
      "outputs": [
        {
          "output_type": "stream",
          "name": "stdout",
          "text": [
            "Type in: thr khldd pritkim\n",
            "khldd pritkim thr\n"
          ]
        }
      ]
    },
    {
      "cell_type": "code",
      "source": [
        "# Q5. Write a program that accepts a sentence and calculate the number of letters and digits.\n",
        "# Suppose the following input is supplied to the program:\n",
        "# hello world! 123\n",
        "# Then, the output should be:\n",
        "# LETTERS 10\n",
        "\n",
        "# DIGITS 3\n",
        "\n",
        "phrase = input(\"Type in: \")\n",
        "phrase = list(phrase)\n",
        "\n",
        "l, d = 0, 0\n",
        "for i in phrase:\n",
        "    if i.isalpha():\n",
        "        l = l + 1\n",
        "    if i.isdigit():\n",
        "        d = d + 1\n",
        "    else:\n",
        "        pass\n",
        "\n",
        "print(\"Letters:\", l)\n",
        "print(\"Digits:\", d)"
      ],
      "metadata": {
        "colab": {
          "base_uri": "https://localhost:8080/"
        },
        "id": "gRHF_SnYamHA",
        "outputId": "4aef5960-ed8e-4d2f-ada3-394164590d91"
      },
      "execution_count": 6,
      "outputs": [
        {
          "output_type": "stream",
          "name": "stdout",
          "text": [
            "Type in: SHUBHAM 123 KUMAR 23 CH\n",
            "Letters: 14\n",
            "Digits: 5\n"
          ]
        }
      ]
    },
    {
      "cell_type": "code",
      "source": [
        "# Q6.A website requires the users to input username and password to register. Write a program to\n",
        "# check the validity of password input by users.\n",
        "# Following are the criteria for checking the password:\n",
        "# 1. At least 1 letter between [a-z]\n",
        "# 2. At least 1 number between [0-9]\n",
        "# 1. At least 1 letter between [A-Z]\n",
        "# 3. At least 1 character from [$#@]\n",
        "# 4. Minimum length of transaction password: 6\n",
        "# 5. Maximum length of transaction password: 12\n",
        "# Your program should accept a sequence of comma separated passwords and will check them\n",
        "# according to the above criteria. Passwords that match the criteria are to be printed, each\n",
        "# separated by a comma.\n",
        "# Example\n",
        "# If the following passwords are given as input to the program:\n",
        "# ABd1234@1,a F1#,2w3E*,2We3345\n",
        "# Then, the output of the program should be:\n",
        "# ABd1234@1\n",
        "\n",
        "s=input(\"enter sequence of comma separated passwords :\")\n",
        "import re\n",
        "l=s.split(\",\")\n",
        "for i in l:\n",
        "  if(len(i)>=6 and len(i)<=12):\n",
        "    if re.search(\"([a-z])+\", i):\n",
        "      if re.search(\"([A-Z])+\", i):\n",
        "        if re.search(\"([0-9])+\", i):\n",
        "          if re.search(\"([#,@,$])+\", i):\n",
        "              print(i)"
      ],
      "metadata": {
        "colab": {
          "base_uri": "https://localhost:8080/"
        },
        "id": "aFDZnkxrbImi",
        "outputId": "392d8400-93b7-49b2-b8ab-9aae2660ec46"
      },
      "execution_count": 9,
      "outputs": [
        {
          "output_type": "stream",
          "name": "stdout",
          "text": [
            "enter sequence of comma separated passwords :ABd1234@1,a F1#,2w3E*,2We3345\n",
            "ABd1234@1\n"
          ]
        }
      ]
    }
  ]
}