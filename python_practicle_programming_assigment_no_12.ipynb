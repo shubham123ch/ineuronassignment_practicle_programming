{
  "nbformat": 4,
  "nbformat_minor": 0,
  "metadata": {
    "colab": {
      "provenance": []
    },
    "kernelspec": {
      "name": "python3",
      "display_name": "Python 3"
    },
    "language_info": {
      "name": "python"
    }
  },
  "cells": [
    {
      "cell_type": "markdown",
      "source": [
        "# Shubham Kumar Chaturvedi(python practicle programming assigment no: 12)"
      ],
      "metadata": {
        "id": "Y_Qt4fx-70c5"
      }
    },
    {
      "cell_type": "code",
      "execution_count": 1,
      "metadata": {
        "colab": {
          "base_uri": "https://localhost:8080/"
        },
        "id": "S7cWrZiy7ymN",
        "outputId": "dfd5947b-f3d4-4cdf-a702-836bac35489a"
      },
      "outputs": [
        {
          "output_type": "stream",
          "name": "stdout",
          "text": [
            "The original dictionary is : {'gfg': [5, 6, 7, 8], 'is': [10, 11, 7, 5], 'best': [6, 12, 10, 8], 'for': [1, 2, 5]}\n",
            "The unique values list is : [1, 2, 5, 6, 7, 8, 10, 11, 12]\n"
          ]
        }
      ],
      "source": [
        "# Q12.Write a Python program to Extract Unique values dictionary values?\n",
        "# Python3 code to demonstrate working of\n",
        "# Extract Unique values dictionary values\n",
        "\n",
        "# initializing dictionary\n",
        "test_dict = {'gfg' : [5, 6, 7, 8],\n",
        "\t\t\t'is' : [10, 11, 7, 5],\n",
        "\t\t\t'best' : [6, 12, 10, 8],\n",
        "\t\t\t'for' : [1, 2, 5]}\n",
        "\n",
        "# printing original dictionary\n",
        "print(\"The original dictionary is : \" + str(test_dict))\n",
        "\n",
        "# Extract Unique values dictionary values\n",
        "x=[]\n",
        "for i in test_dict.keys():\n",
        "\tx.extend(test_dict[i])\n",
        "x=list(set(x))\n",
        "x.sort()\n",
        "# printing result\n",
        "print(\"The unique values list is : \" + str(x))\n",
        "\n"
      ]
    },
    {
      "cell_type": "code",
      "source": [
        "#Q2. Write a Python program to find the sum of all items in a dictionary?\n",
        "# Python3 Program to find sum of\n",
        "# all items in a Dictionary\n",
        "\n",
        "# Function to print sum\n",
        "\n",
        "\n",
        "def returnSum(myDict):\n",
        "\n",
        "\tlist = []\n",
        "\tfor i in myDict:\n",
        "\t\tlist.append(myDict[i])\n",
        "\tfinal = sum(list)\n",
        "\n",
        "\treturn final\n",
        "\n",
        "\n",
        "# Driver Function\n",
        "dict = {'a': 100, 'b': 200, 'c': 300}\n",
        "print(\"Sum :\", returnSum(dict))\n"
      ],
      "metadata": {
        "colab": {
          "base_uri": "https://localhost:8080/"
        },
        "id": "ZSSxeohVjxXB",
        "outputId": "122e762e-7f84-472a-c6e9-cfdf646248a4"
      },
      "execution_count": 2,
      "outputs": [
        {
          "output_type": "stream",
          "name": "stdout",
          "text": [
            "Sum : 600\n"
          ]
        }
      ]
    },
    {
      "cell_type": "code",
      "source": [
        "# Q3.Write a Python program to Merging two Dictionaries?\n",
        "# Python code to merge dict using a single\n",
        "# expression\n",
        "def Merge(dict1, dict2):\n",
        "\tres = {**dict1, **dict2}\n",
        "\treturn res\n",
        "\t\n",
        "# Driver code\n",
        "dict1 = {'a': 10, 'b': 8}\n",
        "dict2 = {'d': 6, 'c': 4}\n",
        "dict3 = Merge(dict1, dict2)\n",
        "print(dict3)\n"
      ],
      "metadata": {
        "colab": {
          "base_uri": "https://localhost:8080/"
        },
        "id": "poHyIoiyq9fq",
        "outputId": "f6c58533-8a75-493d-b039-a41b808d6e26"
      },
      "execution_count": 6,
      "outputs": [
        {
          "output_type": "stream",
          "name": "stdout",
          "text": [
            "{'a': 10, 'b': 8, 'd': 6, 'c': 4}\n"
          ]
        }
      ]
    },
    {
      "cell_type": "code",
      "source": [
        "# Q4. Write a Python program to convert key-values list to flat dictionary?\n",
        "# Python3 code to demonstrate working of\n",
        "# Convert key-values list to flat dictionary\n",
        "# Using dict() + zip()\n",
        "# from itertools import product\n",
        "\n",
        "# initializing dictionary\n",
        "# test_dict = {'month' : [1, 2, 3],\n",
        "# \t\t\t'name' : ['Jan', 'Feb', 'March']}\n",
        "\n",
        "# printing original dictionary\n",
        "# print(\"The original dictionary is : \" + str(test_dict))\n",
        "\n",
        "# Convert key-values list to flat dictionary\n",
        "# Using dict() + zip()\n",
        "# res = dict(zip(test_dict['month'], test_dict['name']))\n",
        "\n",
        "# printing result\n",
        "# print(\"Flattened dictionary : \" + str(res))\n"
      ],
      "metadata": {
        "id": "6RK3F1ztvZVp"
      },
      "execution_count": 6,
      "outputs": []
    },
    {
      "cell_type": "code",
      "source": [
        "# Q5. Write a Python program to insertion at the beginning in OrderedDict?\n",
        "from collections import OrderedDict\n",
        "dic1 = OrderedDict([('A', '100'), ('B', '200'), ('C', '300')])\n",
        "insrt = OrderedDict([(\"D\", '400')])\n",
        "  \n",
        "final = OrderedDict(list(insrt.items()) + list(dic1.items()))\n",
        "  \n",
        "# print result\n",
        "print (\"Resultant Dictionary :\")\n",
        "print(final)\n"
      ],
      "metadata": {
        "colab": {
          "base_uri": "https://localhost:8080/"
        },
        "id": "AF96Ty4kyFZj",
        "outputId": "de9099a1-a6a1-4869-f2f8-852968f028f0"
      },
      "execution_count": 4,
      "outputs": [
        {
          "output_type": "stream",
          "name": "stdout",
          "text": [
            "Resultant Dictionary :\n",
            "OrderedDict([('D', '400'), ('A', '100'), ('B', '200'), ('C', '300')])\n"
          ]
        }
      ]
    },
    {
      "cell_type": "code",
      "source": [
        "# Q6. Write a Python program to check order of character in string using OrderedDict()?\n",
        "# Function to check if string follows order of\n",
        "# characters defined by a pattern\n",
        "from collections import OrderedDict\n",
        "\n",
        "def checkOrder(input, pattern):\n",
        "\t\n",
        "\t# create empty OrderedDict\n",
        "\t# output will be like {'a': None,'b': None, 'c': None}\n",
        "\tdict = OrderedDict.fromkeys(input)\n",
        "\n",
        "\t# traverse generated OrderedDict parallel with\n",
        "\t# pattern string to check if order of characters\n",
        "\t# are same or not\n",
        "\tptrlen = 0\n",
        "\tfor key,value in dict.items():\n",
        "\t\tif (key == pattern[ptrlen]):\n",
        "\t\t\tptrlen = ptrlen + 1\n",
        "\t\t\n",
        "\t\t# check if we have traverse complete\n",
        "\t\t# pattern string\n",
        "\t\tif (ptrlen == (len(pattern))):\n",
        "\t\t\treturn 'true'\n",
        "\n",
        "\t# if we come out from for loop that means\n",
        "\t# order was mismatched\n",
        "\treturn 'false'\n",
        "\n",
        "# Driver program\n",
        "if __name__ == \"__main__\":\n",
        "\tinput = 'engineers rock'\n",
        "\tpattern = 'er'\n",
        "\tprint (checkOrder(input,pattern))\n"
      ],
      "metadata": {
        "colab": {
          "base_uri": "https://localhost:8080/"
        },
        "id": "kbWcicBQQ2lh",
        "outputId": "fa78f483-e91b-4027-bab7-043a2472ca08"
      },
      "execution_count": 2,
      "outputs": [
        {
          "output_type": "stream",
          "name": "stdout",
          "text": [
            "true\n"
          ]
        }
      ]
    },
    {
      "cell_type": "code",
      "source": [
        "#Q7. Write a Python program to sort Python Dictionaries by Key or Value?\n",
        "# function calling\n",
        "def dictionairy():\n",
        "\n",
        "\t# Declaring the hash function\n",
        "\tkey_value = {}\n",
        "\n",
        "# Initialize value\n",
        "\tkey_value[2] = 56\n",
        "\tkey_value[1] = 2\n",
        "\tkey_value[5] = 12\n",
        "\tkey_value[4] = 24\n",
        "\tkey_value[6] = 18\n",
        "\tkey_value[3] = 323\n",
        "\t\n",
        "\tprint(\"key_value\",key_value)\n",
        "\n",
        "\tprint(\"Task 2:-\\nKeys and Values sorted in\",\n",
        "\t\t\"alphabetical order by the key \")\n",
        "\t\n",
        "\n",
        "\t# sorted(key_value) returns an iterator over the\n",
        "\t# Dictionary’s value sorted in keys.\n",
        "\tfor i in sorted(key_value):\n",
        "\t\tprint((i, key_value[i]), end=\" \")\n",
        "\n",
        "\n",
        "def main():\n",
        "\t\t# function calling\n",
        "\tdictionairy()\n",
        "\n",
        "\n",
        "# main function calling\n",
        "if __name__ == \"__main__\":\n",
        "\tmain()\n"
      ],
      "metadata": {
        "colab": {
          "base_uri": "https://localhost:8080/"
        },
        "id": "yuYrEG4RSXRH",
        "outputId": "b71a9768-5ae7-487d-cf4e-01be7fec9617"
      },
      "execution_count": 3,
      "outputs": [
        {
          "output_type": "stream",
          "name": "stdout",
          "text": [
            "key_value {2: 56, 1: 2, 5: 12, 4: 24, 6: 18, 3: 323}\n",
            "Task 2:-\n",
            "Keys and Values sorted in alphabetical order by the key \n",
            "(1, 2) (2, 56) (3, 323) (4, 24) (5, 12) (6, 18) "
          ]
        }
      ]
    }
  ]
}