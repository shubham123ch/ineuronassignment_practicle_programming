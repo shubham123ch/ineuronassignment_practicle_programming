{
  "nbformat": 4,
  "nbformat_minor": 0,
  "metadata": {
    "colab": {
      "provenance": []
    },
    "kernelspec": {
      "name": "python3",
      "display_name": "Python 3"
    },
    "language_info": {
      "name": "python"
    }
  },
  "cells": [
    {
      "cell_type": "markdown",
      "source": [
        "# Shubham Kumar Chaturvedi(python practicle programming assigment no: 11)"
      ],
      "metadata": {
        "id": "XGTrfvsDJeLM"
      }
    },
    {
      "cell_type": "code",
      "execution_count": null,
      "metadata": {
        "colab": {
          "base_uri": "https://localhost:8080/"
        },
        "id": "pkTdbzGwJdRb",
        "outputId": "ef87d258-6ab2-4407-d0cc-e7ab5b745cd0"
      },
      "outputs": [
        {
          "output_type": "stream",
          "name": "stdout",
          "text": [
            "['hello', 'geeks', 'geeks', 'computer', 'science', 'portal']\n"
          ]
        }
      ],
      "source": [
        "# Q1.Write a Python program to find words which are greater than given length k?\n",
        "sentence = \"hello geeks for geeks is computer science portal\"\n",
        "length = 4\n",
        "print([word for word in sentence.split() if len(word) > length])"
      ]
    },
    {
      "cell_type": "code",
      "source": [
        "# Q2. Write a Python program for removing i-th character from a string?\n",
        "# Python3 program for removing i-th\n",
        "# indexed character from a string\n",
        "\n",
        "# Removes character at index i\n",
        "def remove(string, i):\n",
        "\n",
        "\tfor j in range(len(string)):\n",
        "\t\tif j == i:\n",
        "\t\t\tstring = string.replace(string[i], \"\", 1)\n",
        "\treturn string\n",
        "\t\n",
        "# Driver Code\n",
        "if __name__ == '__main__':\n",
        "\t\n",
        "\tstring = \"shubham kumar chaturvedi\"\n",
        "\t\n",
        "\t# Remove nth index element\n",
        "\ti = 5 \n",
        "\t\n",
        "\t# Print the new string\n",
        "\tprint(remove(string, i))\n"
      ],
      "metadata": {
        "colab": {
          "base_uri": "https://localhost:8080/"
        },
        "id": "z3DVrdB4PmTP",
        "outputId": "0c98754d-3520-451b-a81e-64aaea4322a4"
      },
      "execution_count": null,
      "outputs": [
        {
          "output_type": "stream",
          "name": "stdout",
          "text": [
            "shubhm kumar chaturvedi\n"
          ]
        }
      ]
    },
    {
      "cell_type": "code",
      "source": [
        "# Q3. Write a Python program to split and join a string?\n",
        "# Python program to split a string and\n",
        "# join it using different delimiter\n",
        "\n",
        "def split_string(string):\n",
        "\n",
        "\t# Split the string based on space delimiter\n",
        "\tlist_string = string.split(' ')\n",
        "\t\n",
        "\treturn list_string\n",
        "\n",
        "def join_string(list_string):\n",
        "\n",
        "\t# Join the string based on '-' delimiter\n",
        "\tstring = ''.join(list_string)\n",
        "\t\n",
        "\treturn string\n",
        "\n",
        "# Driver Function\n",
        "if __name__ == '__main__':\n",
        "\tstring = 'shubham kumar chaturvedi'\n",
        "\t\n",
        "\t# Splitting a string\n",
        "\tlist_string = split_string(string)\n",
        "\tprint(list_string)\n",
        "\n",
        "\t# Join list of strings into one\n",
        "\tnew_string = join_string(list_string)\n",
        "\tprint(new_string)\n"
      ],
      "metadata": {
        "colab": {
          "base_uri": "https://localhost:8080/"
        },
        "id": "FJHeLvvsScMX",
        "outputId": "6378ee5f-7792-4d7e-aae7-c1620ac9655f"
      },
      "execution_count": null,
      "outputs": [
        {
          "output_type": "stream",
          "name": "stdout",
          "text": [
            "['shubham', 'kumar', 'chaturvedi']\n",
            "shubhamkumarchaturvedi\n"
          ]
        }
      ]
    },
    {
      "cell_type": "code",
      "source": [
        "# Q4.Write a Python to check if a given string is binary string or not?\n",
        "string = \"01010101010\"\n",
        "if(string.count('0')+string.count('1')==len(string)):\n",
        "\tprint(\"Yes\")\n",
        "else:\n",
        "\tprint(\"No\")\n"
      ],
      "metadata": {
        "colab": {
          "base_uri": "https://localhost:8080/"
        },
        "id": "6JcepX1mT_XN",
        "outputId": "30b040aa-4495-4208-bc6e-cd3e238ba7e4"
      },
      "execution_count": null,
      "outputs": [
        {
          "output_type": "stream",
          "name": "stdout",
          "text": [
            "Yes\n"
          ]
        }
      ]
    },
    {
      "cell_type": "code",
      "source": [
        "# Q5. Write a Python program to find uncommon words from two Strings?\n",
        "#list of uncommon words\n",
        "\n",
        "def uncommon(s1,s2):\n",
        "    list_s1 = s1.split()\n",
        "    list_s2 = s2.split()\n",
        "    uc_words = \"\"\n",
        "    for i in list_s1:\n",
        "        if i not in list_s2:\n",
        "            uc_words =  uc_words+\" \"+i\n",
        "    for j in list_s2:\n",
        "        if j not in list_s1:\n",
        "             uc_words =  uc_words+\" \"+j\n",
        "  \n",
        "    return  uc_words\n",
        "  \n",
        "a = str(input(\"enter the string value:\"))\n",
        "b = str(input(\"enter the second string value:\"))\n",
        "# a = \"berry mango cherry\"\n",
        "# b = \"berry peach cherry\"\n",
        "print(uncommon(a,b))"
      ],
      "metadata": {
        "id": "rxs4oknCYBwy",
        "colab": {
          "base_uri": "https://localhost:8080/"
        },
        "outputId": "1238394f-1b1b-4143-cf2e-278378ef6848"
      },
      "execution_count": 3,
      "outputs": [
        {
          "output_type": "stream",
          "name": "stdout",
          "text": [
            "enter the string value:python practice programming \n",
            "enter the second string value:python django programing\n",
            " practice programming django programing\n"
          ]
        }
      ]
    },
    {
      "cell_type": "code",
      "source": [
        "# Q6. Write a Python to find all duplicate characters in string?\n",
        "def find_dup_char(input):\n",
        "\tx=[]\n",
        "\tfor i in input:\n",
        "\t\tif i not in x and input.count(i)>1:\n",
        "\t\t\tx.append(i)\n",
        "\tprint(\" \".join(x))\n",
        "\n",
        "# Driver program\n",
        "if __name__ == \"__main__\":\n",
        "\tinput = 'shubham kumar chaturvedi'\n",
        "\tfind_dup_char(input)\n"
      ],
      "metadata": {
        "colab": {
          "base_uri": "https://localhost:8080/"
        },
        "id": "5GN9-f1y3_mj",
        "outputId": "7c8903bd-2d13-470c-c800-94d3581a1fa9"
      },
      "execution_count": 5,
      "outputs": [
        {
          "output_type": "stream",
          "name": "stdout",
          "text": [
            "h u a m   r\n"
          ]
        }
      ]
    },
    {
      "cell_type": "code",
      "source": [
        "# Q7. Write a Python Program to check if a string contains any special character?\n",
        "# Python3 program to check if a string\n",
        "# contains any special character\n",
        "\n",
        "# import required package\n",
        "import re\n",
        "\n",
        "# Function checks if the string\n",
        "# contains any special character\n",
        "def run(string):\n",
        "\n",
        "\t# Make own character set and pass\n",
        "\t# this as argument in compile method\n",
        "\tregex = re.compile('[@_!#$%^&*()<>?/\\|}{~:]')\n",
        "\t\n",
        "\t# Pass the string in search\n",
        "\t# method of regex object.\n",
        "\tif(regex.search(string) == None):\n",
        "\t\tprint(\"String is accepted\")\n",
        "\t\t\n",
        "\telse:\n",
        "\t\tprint(\"String is not accepted.\")\n",
        "\t\n",
        "\n",
        "# Driver Code\n",
        "if __name__ == '__main__' :\n",
        "\t\n",
        "\t# Enter the string\n",
        "\tstring = \"shubham123ch@\"\n",
        "\t\n",
        "\t# calling run function\n",
        "\trun(string)\n"
      ],
      "metadata": {
        "colab": {
          "base_uri": "https://localhost:8080/"
        },
        "id": "NH1Eo0tW6k8U",
        "outputId": "40d958bb-efa9-4a5a-dc88-3059a0a39291"
      },
      "execution_count": 6,
      "outputs": [
        {
          "output_type": "stream",
          "name": "stdout",
          "text": [
            "String is not accepted.\n"
          ]
        }
      ]
    }
  ]
}