{
  "nbformat": 4,
  "nbformat_minor": 0,
  "metadata": {
    "colab": {
      "name": "python programming assignment,1.ipynb",
      "provenance": [],
      "collapsed_sections": []
    },
    "kernelspec": {
      "name": "python3",
      "display_name": "Python 3"
    },
    "language_info": {
      "name": "python"
    }
  },
  "cells": [
    {
      "cell_type": "markdown",
      "source": [
        "**shubham kumar chaturvedi (python programming assignment,1)**"
      ],
      "metadata": {
        "id": "8IE2cN4A1MAq"
      }
    },
    {
      "cell_type": "markdown",
      "source": [
        "1.\tWrite a Python program to print \"Hello Python\"?"
      ],
      "metadata": {
        "id": "M-aDBi3E_Tdp"
      }
    },
    {
      "cell_type": "code",
      "source": [
        "print('Hello Python ')"
      ],
      "metadata": {
        "colab": {
          "base_uri": "https://localhost:8080/"
        },
        "id": "hMSPU3Mt_Xpf",
        "outputId": "84c105c6-7ccd-4582-b8eb-39cfc188a706"
      },
      "execution_count": null,
      "outputs": [
        {
          "output_type": "stream",
          "name": "stdout",
          "text": [
            "Hello Python \n"
          ]
        }
      ]
    },
    {
      "cell_type": "markdown",
      "source": [
        "2.\tWrite a Python program to do arithmetical operations addition and division.?"
      ],
      "metadata": {
        "id": "2iEmKrtW_jx_"
      }
    },
    {
      "cell_type": "code",
      "source": [
        "a = float(input('Enter first side: '))  \n",
        "b = float(input('Enter second side: '))  \n",
        "   \n",
        "# calculate the semi-perimeter  \n",
        "s = (a + b)\n",
        "p = (a/b)\n",
        "\n",
        "print(s,p)"
      ],
      "metadata": {
        "colab": {
          "base_uri": "https://localhost:8080/"
        },
        "id": "_t9zo5lN8Aba",
        "outputId": "e0996a45-5f7b-4247-8edd-f4145dde054e"
      },
      "execution_count": 11,
      "outputs": [
        {
          "output_type": "stream",
          "name": "stdout",
          "text": [
            "Enter first side: 8\n",
            "Enter second side: 8\n",
            "16.0 1.0\n"
          ]
        }
      ]
    },
    {
      "cell_type": "markdown",
      "source": [
        "3.\tWrite a Python program to find the area of a triangle?\n",
        "\n"
      ],
      "metadata": {
        "id": "sL87v71YCtIV"
      }
    },
    {
      "cell_type": "code",
      "source": [
        "# Three sides of the triangle is a, b and c:  \n",
        "a = float(input('Enter first side: '))  \n",
        "b = float(input('Enter second side: '))  \n",
        "c = float(input('Enter third side: '))  \n",
        "  \n",
        "# calculate the semi-perimeter  \n",
        "s = (a + b + c) / 2  \n",
        "  \n",
        "# calculate the area  \n",
        "area = (s*(s-a)*(s-b)*(s-c)) ** 0.5  \n",
        "print('The area of the triangle is %0.2f' %area) "
      ],
      "metadata": {
        "id": "mj0rsAPZNRG6",
        "colab": {
          "base_uri": "https://localhost:8080/"
        },
        "outputId": "75c0c471-0fe8-446c-8a2a-ce804942ca26"
      },
      "execution_count": 2,
      "outputs": [
        {
          "output_type": "stream",
          "name": "stdout",
          "text": [
            "Enter first side: 2\n",
            "Enter second side: 3\n",
            "Enter third side: 4\n",
            "The area of the triangle is 2.90\n"
          ]
        }
      ]
    },
    {
      "cell_type": "markdown",
      "source": [
        "4.\tWrite a Python program to swap two variables?"
      ],
      "metadata": {
        "id": "i_E0isEZHk4E"
      }
    },
    {
      "cell_type": "code",
      "source": [
        "# swapping of two variables.\n",
        " \n",
        "a = 10\n",
        "b = 50\n",
        " \n",
        "# Swapping of two variables\n",
        "# Using third variable temp\n",
        "temp = a\n",
        "a = b\n",
        "b = temp\n",
        " \n",
        "print(\"Value of a:\", a)\n",
        "print(\"Value of b:\", b)"
      ],
      "metadata": {
        "colab": {
          "base_uri": "https://localhost:8080/"
        },
        "id": "WSMwb-w20Qcn",
        "outputId": "1c737062-9d8d-4ef6-e20c-da4b9ee63094"
      },
      "execution_count": 1,
      "outputs": [
        {
          "output_type": "stream",
          "name": "stdout",
          "text": [
            "Value of a: 50\n",
            "Value of b: 10\n"
          ]
        }
      ]
    },
    {
      "cell_type": "markdown",
      "source": [
        "5.\tWrite a Python program to generate a random number?"
      ],
      "metadata": {
        "id": "wPgdrlIMHsS8"
      }
    },
    {
      "cell_type": "code",
      "source": [
        "import random\n",
        "randomlist = []\n",
        "for i in range(0,10):\n",
        "  n = random.randint(1,100)\n",
        "  randomlist.append(n)\n",
        "print(randomlist)\n",
        "\n",
        "#Generate 5 random numbers between 10 and 30\n",
        "randomlist = random.sample(range(10, 30), 5)\n",
        "print(randomlist)"
      ],
      "metadata": {
        "colab": {
          "base_uri": "https://localhost:8080/"
        },
        "id": "mPbeHkZUNSeC",
        "outputId": "df300599-4ebf-4ad9-af41-bfb6f7a05f5f"
      },
      "execution_count": null,
      "outputs": [
        {
          "output_type": "stream",
          "name": "stdout",
          "text": [
            "[44, 30, 99, 39, 86, 84, 54, 1, 24, 2]\n",
            "[12, 16, 26, 25, 23]\n"
          ]
        }
      ]
    }
  ]
}