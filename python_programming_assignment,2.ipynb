{
  "nbformat": 4,
  "nbformat_minor": 0,
  "metadata": {
    "colab": {
      "name": "python programming assignment,2.ipynb",
      "provenance": [],
      "collapsed_sections": []
    },
    "kernelspec": {
      "name": "python3",
      "display_name": "Python 3"
    },
    "language_info": {
      "name": "python"
    }
  },
  "cells": [
    {
      "cell_type": "markdown",
      "source": [
        "**shubham kumar chaturvedi (python programming assignment,2)**"
      ],
      "metadata": {
        "id": "lT3wA3RXApVI"
      }
    },
    {
      "cell_type": "code",
      "execution_count": 2,
      "metadata": {
        "colab": {
          "base_uri": "https://localhost:8080/"
        },
        "id": "xMrMHCDi9EGW",
        "outputId": "ffb655e7-9d8f-438a-d7a5-38bc4979ba83"
      },
      "outputs": [
        {
          "output_type": "stream",
          "name": "stdout",
          "text": [
            "Enter value in kilometers: 8\n",
            "8.00 kilometers is equal to 4.97 miles\n",
            "4.97 miles is equal to 8.00 kilometers\n"
          ]
        }
      ],
      "source": [
        "#1.\tWrite a Python program to convert kilometers to miles?\n",
        "\n",
        "# Taking kilometers input from the user\n",
        "kilometers = float(input(\"Enter value in kilometers: \"))\n",
        "\n",
        "# conversion factor\n",
        "conv_fac = 0.621371\n",
        "\n",
        "# calculate miles\n",
        "miles = kilometers * conv_fac\n",
        "print('%0.2f kilometers is equal to %0.2f miles' %(kilometers,miles))\n",
        "\n",
        "#or\n",
        "\n",
        "# calculate miles to kilometers\n",
        "kilometers = miles / conv_fac\n",
        "print('%0.2f miles is equal to %0.2f kilometers' %(miles,kilometers))\n"
      ]
    },
    {
      "cell_type": "code",
      "source": [
        "#2.\tWrite a Python program to convert Celsius to Fahrenheit?\n",
        "\n",
        "# change this value for a different result\n",
        "celsius = 37.5\n",
        "\n",
        "\n",
        "# calculate fahrenheit to celsius\n",
        "fahrenheit = (celsius * 1.8) + 32\n",
        "print('%0.1f degree Celsius is equal to %0.1f degree Fahrenheit' %(celsius,fahrenheit))\n",
        "\n",
        "# or\n",
        "celsius = (fahrenheit - 32) / 1.8\n",
        "print(' %0.1f degree Fahrenheit to %0.1f degree Celsius is equal' %(fahrenheit,celsius))"
      ],
      "metadata": {
        "colab": {
          "base_uri": "https://localhost:8080/"
        },
        "id": "LfIRq2lt-h4y",
        "outputId": "2114c010-9f3f-46c6-fac8-955b5b280582"
      },
      "execution_count": 6,
      "outputs": [
        {
          "output_type": "stream",
          "name": "stdout",
          "text": [
            "37.5 degree Celsius is equal to 99.5 degree Fahrenheit\n",
            " 99.5 degree Fahrenheit to 37.5 degree Celsius is equal\n"
          ]
        }
      ]
    },
    {
      "cell_type": "code",
      "source": [
        "#3.\tWrite a Python program to display calendar?\n",
        "\n",
        "# importing calendar module\n",
        "import calendar\n",
        "\n",
        "yy = 2014  # year\n",
        "mm = 11    # month\n",
        "\n",
        "# To take month and year input from the user\n",
        "yy = int(input(\"Enter year: \"))\n",
        "mm = int(input(\"Enter month: \"))\n",
        "\n",
        "# display the calendar\n",
        "print(calendar.month(yy, mm))\n"
      ],
      "metadata": {
        "colab": {
          "base_uri": "https://localhost:8080/"
        },
        "id": "eYEYVfBPBLt1",
        "outputId": "0919df51-08cf-47ea-e19a-bd0dabaf9c08"
      },
      "execution_count": 10,
      "outputs": [
        {
          "output_type": "stream",
          "name": "stdout",
          "text": [
            "Enter year: 2022\n",
            "Enter month: 2\n",
            "   February 2022\n",
            "Mo Tu We Th Fr Sa Su\n",
            "    1  2  3  4  5  6\n",
            " 7  8  9 10 11 12 13\n",
            "14 15 16 17 18 19 20\n",
            "21 22 23 24 25 26 27\n",
            "28\n",
            "\n"
          ]
        }
      ]
    },
    {
      "cell_type": "code",
      "source": [
        "#4.\tWrite a Python program to solve quadratic equation?\n",
        "\n",
        "# Solve the quadratic equation ax**2 + bx + c = 0\n",
        "\n",
        "# import complex math module\n",
        "import cmath\n",
        "\n",
        "a = 1\n",
        "b = 5\n",
        "c = 6\n",
        "\n",
        "# calculate the discriminant\n",
        "d = (b**2) - (4*a*c)\n",
        "\n",
        "# find two solutions\n",
        "sol1 = (-b-cmath.sqrt(d))/(2*a)\n",
        "sol2 = (-b+cmath.sqrt(d))/(2*a)\n",
        "\n",
        "print('The solution are {0} and {1}'.format(sol1,sol2))\n"
      ],
      "metadata": {
        "colab": {
          "base_uri": "https://localhost:8080/"
        },
        "id": "v3gQl2BhB9N1",
        "outputId": "bb2ec66b-6346-45e8-ae9c-de0143d47e25"
      },
      "execution_count": 11,
      "outputs": [
        {
          "output_type": "stream",
          "name": "stdout",
          "text": [
            "The solution are (-3+0j) and (-2+0j)\n"
          ]
        }
      ]
    },
    {
      "cell_type": "code",
      "source": [
        "#5.\tWrite a Python program to swap two variables without temp variable?\n",
        "\n",
        "x = 5\n",
        "y = 10\n",
        "\n",
        "x, y = y, x\n",
        "print(\"x =\", x)\n",
        "print(\"y =\", y)\n"
      ],
      "metadata": {
        "colab": {
          "base_uri": "https://localhost:8080/"
        },
        "id": "MIeptueQDPJV",
        "outputId": "1ac42f6a-7957-4266-cce4-4edd64cc8967"
      },
      "execution_count": 12,
      "outputs": [
        {
          "output_type": "stream",
          "name": "stdout",
          "text": [
            "x = 10\n",
            "y = 5\n"
          ]
        }
      ]
    }
  ]
}