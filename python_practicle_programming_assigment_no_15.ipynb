{
  "nbformat": 4,
  "nbformat_minor": 0,
  "metadata": {
    "colab": {
      "provenance": []
    },
    "kernelspec": {
      "name": "python3",
      "display_name": "Python 3"
    },
    "language_info": {
      "name": "python"
    }
  },
  "cells": [
    {
      "cell_type": "markdown",
      "source": [
        "# Shubham Kumar Chaturvedi(python practicle programming assigment no: 15)"
      ],
      "metadata": {
        "id": "8-J-VRSyn1lU"
      }
    },
    {
      "cell_type": "code",
      "execution_count": 3,
      "metadata": {
        "colab": {
          "base_uri": "https://localhost:8080/"
        },
        "id": "77lu5RCvnw9a",
        "outputId": "0530fde0-3fb0-4de0-e257-a7c5734757bf"
      },
      "outputs": [
        {
          "output_type": "stream",
          "name": "stdout",
          "text": [
            "5 7 10 14 15 20 21 25 28 30 35 40 42 45 49 50 "
          ]
        }
      ],
      "source": [
        "# Q1 .Please write a program using generator to print the numbers which can be divisible by 5 and\n",
        "# 7 between 0 and n in comma separated form while n is input by console.\n",
        "# Example:\n",
        "# If the following n is given as input to the program:\n",
        "# 100\n",
        "# Then, the output of the program should be:\n",
        "# 0,35,70\n",
        "\n",
        "# Python3 program to print all the numbers\n",
        "# divisible by 5 or 7 for a given number\n",
        "\n",
        "# Result generator with N\n",
        "def NumGen(n):\n",
        "\t\n",
        "\t# iterate from 0 to N\n",
        "\tfor j in range(1, n+1):\n",
        "\n",
        "\t\t# Short-circuit operator is used\n",
        "\t\tif j % 5 == 0 or j % 7 == 0:\n",
        "\t\t\tyield j\n",
        "\n",
        "# Driver code\n",
        "if __name__ == \"__main__\":\n",
        "\t\n",
        "\t# input goes here\n",
        "\tN = 50\n",
        "\n",
        "\t# Iterating over generator function\n",
        "\tfor j in NumGen(N):\n",
        "\t\tprint(j, end = \" \")\n",
        "\n",
        "\n"
      ]
    },
    {
      "cell_type": "code",
      "source": [
        "# # Q2.Please write a program using generator to print the even numbers between 0 and n in comma\n",
        "# separated form while n is input by console.\n",
        "# Example:\n",
        "# If the following n is given as input to the program:\n",
        "# 10\n",
        "# Then, the output of the program should be:\n",
        "# 0,2,4,6,8,10\n",
        "\n",
        "# Python program to print Even Numbers in given range\n",
        "\n",
        "start = int(input(\"Enter the start of range: \"))\n",
        "end = int(input(\"Enter the end of range: \"))\n",
        "\n",
        "# iterating each number in list\n",
        "for num in range(start, end + 1):\n",
        "\n",
        "\t# checking condition\n",
        "\tif num % 2 == 0:\n",
        "\t\tprint(num, end=\" \")\n"
      ],
      "metadata": {
        "colab": {
          "base_uri": "https://localhost:8080/"
        },
        "id": "7zeLLRh5BCnM",
        "outputId": "5453333a-084a-43df-ecf3-b25420d24ced"
      },
      "execution_count": 4,
      "outputs": [
        {
          "output_type": "stream",
          "name": "stdout",
          "text": [
            "Enter the start of range: 2\n",
            "Enter the end of range: 25\n",
            "2 4 6 8 10 12 14 16 18 20 22 24 "
          ]
        }
      ]
    },
    {
      "cell_type": "code",
      "source": [
        "# Q3. The Fibonacci Sequence is computed based on the following formula:\n",
        "# f(n)=0 if n=0\n",
        "# f(n)=1 if n=1\n",
        "# f(n)=f(n-1)+f(n-2) if n&gt;1\n",
        "# Please write a program using list comprehension to print the Fibonacci Sequence in comma\n",
        "# separated form with a given n input by console.\n",
        "# Example:\n",
        "# If the following n is given as input to the program:\n",
        "# 7\n",
        "\n",
        "# Then, the output of the program should be:\n",
        "# 0,1,1,2,3,5,8,13\n",
        "\n",
        "# A simple recursive CPP program to print\n",
        "# first n Tribonacci numbers.\n",
        "\n",
        "def printTribRec(n) :\n",
        "\tif (n == 0 or n == 1 or n == 2) :\n",
        "\t\treturn 0\n",
        "\telif (n == 3) :\n",
        "\t\treturn 1\n",
        "\telse :\n",
        "\t\treturn (printTribRec(n - 1) +\n",
        "\t\t\t\tprintTribRec(n - 2) +\n",
        "\t\t\t\tprintTribRec(n - 3))\n",
        "\t\t\n",
        "\n",
        "def printTrib(n) :\n",
        "\tfor i in range(1, n) :\n",
        "\t\tprint( printTribRec(i) , \" \", end = \"\")\n",
        "\t\t\n",
        "\n",
        "# Driver code\n",
        "n = 10\n",
        "printTrib(n)\n",
        "\n",
        "\n",
        "# This code is contributed by Nikita Tiwari.\n"
      ],
      "metadata": {
        "colab": {
          "base_uri": "https://localhost:8080/"
        },
        "id": "lu_-QCiTC84p",
        "outputId": "9aea1daf-2011-46b0-d6a4-7e0ff04d97bb"
      },
      "execution_count": 5,
      "outputs": [
        {
          "output_type": "stream",
          "name": "stdout",
          "text": [
            "0  0  1  1  2  4  7  13  24  "
          ]
        }
      ]
    },
    {
      "cell_type": "code",
      "source": [
        "# Q4. Assuming that we have some email addresses in the &quot;username@companyname.com&quot; format,\n",
        "# please write program to print the user name of a given email address. Both user names and\n",
        "# company names are composed of letters only.\n",
        "# Example:\n",
        "# If the following email address is given as input to the program:\n",
        "# john@google.com\n",
        "# Then, the output of the program should be:\n",
        "# john\n",
        "\n",
        "import re\n",
        "emailAddress = input()\n",
        "pat2 = \"(\\w+)@(\\w+)\\.(com)\"\n",
        "r2 = re.match(pat2,emailAddress)\n",
        "print(r2.group(1))"
      ],
      "metadata": {
        "colab": {
          "base_uri": "https://localhost:8080/"
        },
        "id": "mkKOVnheDR9t",
        "outputId": "cfb65238-6728-4c2e-b8a9-30ea6dd7751d"
      },
      "execution_count": 7,
      "outputs": [
        {
          "output_type": "stream",
          "name": "stdout",
          "text": [
            "shubham123ch@gmail.com\n",
            "shubham123ch\n"
          ]
        }
      ]
    },
    {
      "cell_type": "code",
      "source": [
        "# Q5.Define a class named Shape and its subclass Square. The Square class has an init function\n",
        "# which takes a length as argument. Both classes have a area function which can print the area\n",
        "# # of the shape where Shape&#39;s area is 0 by default.\n",
        "class Shape():\n",
        "    def __init__(self):\n",
        "        pass\n",
        "\n",
        "    def area(self):\n",
        "        return 0\n",
        "\n",
        "class Square(Shape):\n",
        "    def __init__(self,length = 0):\n",
        "        Shape.__init__(self)\n",
        "        self.length = length\n",
        "\n",
        "    def area(self):\n",
        "        return self.length*self.length\n",
        "\n",
        "Asqr = Square(5)\n",
        "print(Asqr.area())      # prints 25 as given argument\n",
        "\n",
        "print(Square().area())  # prints zero as default area"
      ],
      "metadata": {
        "colab": {
          "base_uri": "https://localhost:8080/"
        },
        "id": "e--A_RxRD5Yg",
        "outputId": "0f087d1f-9349-4011-90d2-d7f60220c314"
      },
      "execution_count": 8,
      "outputs": [
        {
          "output_type": "stream",
          "name": "stdout",
          "text": [
            "25\n",
            "0\n"
          ]
        }
      ]
    }
  ]
}