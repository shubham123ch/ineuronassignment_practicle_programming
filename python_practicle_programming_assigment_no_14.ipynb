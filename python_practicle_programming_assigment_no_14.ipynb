{
  "nbformat": 4,
  "nbformat_minor": 0,
  "metadata": {
    "colab": {
      "provenance": []
    },
    "kernelspec": {
      "name": "python3",
      "display_name": "Python 3"
    },
    "language_info": {
      "name": "python"
    }
  },
  "cells": [
    {
      "cell_type": "markdown",
      "source": [
        "# Shubham Kumar Chaturvedi(python practicle programming assigment no: 14)"
      ],
      "metadata": {
        "id": "8zXyf8HQeYBE"
      }
    },
    {
      "cell_type": "code",
      "execution_count": null,
      "metadata": {
        "colab": {
          "base_uri": "https://localhost:8080/"
        },
        "id": "5xrkEjUEeSSw",
        "outputId": "1dae2575-60dc-4768-af86-4e9b33ddc176"
      },
      "outputs": [
        {
          "output_type": "stream",
          "name": "stdout",
          "text": [
            "70\n",
            "[0, 7, 14, 21, 28, 35, 42, 49, 56, 63]\n",
            "0 True\n",
            "1 False\n",
            "2 False\n",
            "3 False\n",
            "4 False\n",
            "5 False\n",
            "6 False\n",
            "7 True\n",
            "8 False\n",
            "9 False\n",
            "10 False\n",
            "11 False\n",
            "12 False\n",
            "13 False\n",
            "14 True\n",
            "15 False\n",
            "16 False\n",
            "17 False\n",
            "18 False\n",
            "19 False\n",
            "20 False\n",
            "21 True\n",
            "22 False\n",
            "23 False\n",
            "24 False\n",
            "25 False\n",
            "26 False\n",
            "27 False\n",
            "28 True\n",
            "29 False\n",
            "30 False\n",
            "31 False\n",
            "32 False\n",
            "33 False\n",
            "34 False\n",
            "35 True\n",
            "36 False\n",
            "37 False\n",
            "38 False\n",
            "39 False\n",
            "40 False\n",
            "41 False\n",
            "42 True\n",
            "43 False\n",
            "44 False\n",
            "45 False\n",
            "46 False\n",
            "47 False\n",
            "48 False\n",
            "49 True\n",
            "50 False\n",
            "51 False\n",
            "52 False\n",
            "53 False\n",
            "54 False\n",
            "55 False\n",
            "56 True\n",
            "57 False\n",
            "58 False\n",
            "59 False\n",
            "60 False\n",
            "61 False\n",
            "62 False\n",
            "63 True\n",
            "64 False\n",
            "65 False\n",
            "66 False\n",
            "67 False\n",
            "68 False\n",
            "69 False\n"
          ]
        }
      ],
      "source": [
        "# Q1. Define a class with a generator which can iterate the numbers, which are divisible by\n",
        "# 7, between a given range 0 and n.\n",
        "\n",
        "n = int(input())\n",
        "divBy7 = [i for i in range(0, n) if (i % 7 == 0)]\n",
        "print(divBy7)\n",
        "\n",
        "def divChecker(n):\n",
        "    for i in range(n):\n",
        "        if i % 7 == 0:\n",
        "            value = True\n",
        "        else:\n",
        "            value = False\n",
        "        print(i, value)\n",
        "\n",
        "divChecker(n)"
      ]
    },
    {
      "cell_type": "code",
      "source": [
        "# # Q2. Write a program to compute the frequency of the words from the input. The output\n",
        "# should output after sorting the key alphanumerically.\n",
        "# Suppose the following input is supplied to the program:\n",
        "# New to Python or choosing between Python 2 and Python 3? Read Python 2 or\n",
        "# Python 3.\n",
        "# Then, the output should be:\n",
        "# 2:2\n",
        "# 3.:1\n",
        "# 3?:1\n",
        "# New:1\n",
        "# Python:5\n",
        "# Read:1\n",
        "# and:1\n",
        "# between:1\n",
        "# choosing:1\n",
        "# or:2\n",
        "# to:1 \n",
        "\n",
        "import operator\n",
        "\n",
        "text_line = input(\"Type in: \")\n",
        "\n",
        "freq_dict = {}\n",
        "\n",
        "for i in text_line.split(' '):\n",
        "    if i.isalpha():\n",
        "        if i not in freq_dict:\n",
        "            freq_dict[i] = 1\n",
        "        elif i in freq_dict:\n",
        "            freq_dict[i] = freq_dict[i] + 1\n",
        "    else:\n",
        "        pass\n",
        "\n",
        "sorted_freq_dict = sorted(freq_dict.items(), key = operator.itemgetter(0))\n",
        "print(sorted_freq_dict)\n",
        "\n",
        "for i in sorted_freq_dict:\n",
        "    print(i[0], i[1])"
      ],
      "metadata": {
        "id": "p3E1RIL3YME1",
        "colab": {
          "base_uri": "https://localhost:8080/"
        },
        "outputId": "23d75e39-4b5d-4504-8b63-26070a1615ad"
      },
      "execution_count": 4,
      "outputs": [
        {
          "output_type": "stream",
          "name": "stdout",
          "text": [
            "Type in:  New to Python or choosing between Python 2 and Python 3? Read Python 2 or Python 3.\n",
            "[('New', 1), ('Python', 5), ('Read', 1), ('and', 1), ('between', 1), ('choosing', 1), ('or', 2), ('to', 1)]\n",
            "New 1\n",
            "Python 5\n",
            "Read 1\n",
            "and 1\n",
            "between 1\n",
            "choosing 1\n",
            "or 2\n",
            "to 1\n"
          ]
        }
      ]
    },
    {
      "cell_type": "code",
      "source": [
        "# Q3. Define a class Person and its two child classes: Male and Female. All classes have a method \"getGender\" which can print \"Male\" for Male class and \"Female\" for Female class.\n",
        "\n",
        "'''Solution by: popomaticbubble\n",
        "'''\n",
        "class Person(object):\n",
        "    def __init__(self):\n",
        "\t    self.gender = \"unknown\"\n",
        "\n",
        "    def getGender(self):\n",
        "    \tprint(self.gender)\n",
        "\n",
        "class Male(Person):\n",
        "  def __init__(self):\n",
        "\t  self.gender = \"Male\"\n",
        "\n",
        "class Female(Person):\n",
        "  def __init__(self):\n",
        "\t  self.gender = \"Female\"\n",
        "\n",
        "sharon = Female()\n",
        "doug = Male()\n",
        "sharon.getGender()\n",
        "doug.getGender()\n"
      ],
      "metadata": {
        "colab": {
          "base_uri": "https://localhost:8080/"
        },
        "id": "Q_CwmBohcPwT",
        "outputId": "6318f35a-2118-40fa-dea0-d8ebd37cac24"
      },
      "execution_count": 8,
      "outputs": [
        {
          "output_type": "stream",
          "name": "stdout",
          "text": [
            "Female\n",
            "Male\n"
          ]
        }
      ]
    },
    {
      "cell_type": "code",
      "source": [
        "# # Q4.Please write a program to generate all sentences where subject is in [&quot;I&quot;, &quot;You&quot;] and\n",
        "# verb is in [&quot;Play&quot;, &quot;Love&quot;] and the object is in [&quot;Hockey&quot;,&quot;Football&quot;].\n",
        "subject=[\"Americans\", \"Indians\"]\n",
        "verb=[\"Play\", \"watch\"]\n",
        "obj=[\"Baseball\",\"cricket\"]\n",
        "\n",
        "# Use list comprehension instead of looping over each of the predicates\n",
        "sentence_list = [(sub+\" \"+ vb + \" \" + ob) for sub in subject for vb in verb for ob in obj]\n",
        "for sentence in sentence_list:\n",
        " print (sentence)"
      ],
      "metadata": {
        "colab": {
          "base_uri": "https://localhost:8080/"
        },
        "id": "rTpKNZFCfaJ6",
        "outputId": "537a303a-2f70-4381-b970-9512280e9cc9"
      },
      "execution_count": 9,
      "outputs": [
        {
          "output_type": "stream",
          "name": "stdout",
          "text": [
            "Americans Play Baseball\n",
            "Americans Play cricket\n",
            "Americans watch Baseball\n",
            "Americans watch cricket\n",
            "Indians Play Baseball\n",
            "Indians Play cricket\n",
            "Indians watch Baseball\n",
            "Indians watch cricket\n"
          ]
        }
      ]
    },
    {
      "cell_type": "code",
      "source": [
        "# # Q5. Please write a program to compress and decompress the string &quot;hello world!hello\n",
        "# world!hello world!hello world!&quot;.\n",
        "import zlib\n",
        "s = 'hello world!hello world!hello world!hello world!'\n",
        "# In Python 3 zlib.compress() accepts only DataType <bytes>\n",
        "y = bytes(s, 'utf-8')\n",
        "x = zlib.compress(y)\n",
        "print(x)\n",
        "print(zlib.decompress(x))"
      ],
      "metadata": {
        "colab": {
          "base_uri": "https://localhost:8080/"
        },
        "id": "3XWYgJk1hrA5",
        "outputId": "d1699bd6-1a5a-4cef-fcd6-7176246185d4"
      },
      "execution_count": 15,
      "outputs": [
        {
          "output_type": "stream",
          "name": "stdout",
          "text": [
            "b'x\\x9c\\xcbH\\xcd\\xc9\\xc9W(\\xcf/\\xcaIQ\\xcc \\x82\\r\\x00\\xbd[\\x11\\xf5'\n",
            "b'hello world!hello world!hello world!hello world!'\n"
          ]
        }
      ]
    },
    {
      "cell_type": "code",
      "source": [
        "# # Q6. Please write a binary search function which searches an item in a sorted list. The\n",
        "# function should return the index of element to be searched in the list.\n",
        "\n",
        "# Python code to demonstrate working\n",
        "# of binary search in library\n",
        "from bisect import bisect_left\n",
        "\n",
        "def BinarySearch(a, x):\n",
        "\ti = bisect_left(a, x)\n",
        "\tif i != len(a) and a[i] == x:\n",
        "\t\treturn i\n",
        "\telse:\n",
        "\t\treturn -1\n",
        "\n",
        "a = [1, 2, 4, 4, 8]\n",
        "x = int(4)\n",
        "res = BinarySearch(a, x)\n",
        "if res == -1:\n",
        "\tprint(x, \"is absent\")\n",
        "else:\n",
        "\tprint(\"First occurrence of\", x, \"is present at\", res)\n"
      ],
      "metadata": {
        "colab": {
          "base_uri": "https://localhost:8080/"
        },
        "id": "zzB76WUNlYPe",
        "outputId": "c8e10a8b-2568-475c-9747-482a8bda837e"
      },
      "execution_count": 16,
      "outputs": [
        {
          "output_type": "stream",
          "name": "stdout",
          "text": [
            "First occurrence of 4 is present at 2\n"
          ]
        }
      ]
    }
  ]
}